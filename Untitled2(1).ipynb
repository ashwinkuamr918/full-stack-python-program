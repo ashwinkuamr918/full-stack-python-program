{
 "cells": [
  {
   "cell_type": "code",
   "execution_count": 1,
   "id": "d06beec1-47a3-4827-9b0a-faffab80af56",
   "metadata": {},
   "outputs": [
    {
     "name": "stdout",
     "output_type": "stream",
     "text": [
      "hello, python full stack students!\n"
     ]
    }
   ],
   "source": [
    "print(\"hello, python full stack students!\")   "
   ]
  },
  {
   "cell_type": "code",
   "execution_count": 2,
   "id": "452a22e0-7e2a-46c6-b256-e406635d2353",
   "metadata": {},
   "outputs": [
    {
     "name": "stdout",
     "output_type": "stream",
     "text": [
      "i'm ashwin nice to meet you!\n"
     ]
    }
   ],
   "source": [
    "print(\"i'm ashwin nice to meet you!\")"
   ]
  },
  {
   "cell_type": "code",
   "execution_count": 4,
   "id": "f869b4cd-0511-43fb-b5e3-6ac56947b3cc",
   "metadata": {},
   "outputs": [
    {
     "name": "stdout",
     "output_type": "stream",
     "text": [
      "may i know your name?\n"
     ]
    }
   ],
   "source": [
    "print(\"may i know your name?\")"
   ]
  },
  {
   "cell_type": "code",
   "execution_count": null,
   "id": "0e7442f9-5872-43d2-8826-5822869480e0",
   "metadata": {},
   "outputs": [],
   "source": []
  },
  {
   "cell_type": "code",
   "execution_count": 6,
   "id": "745af074-5aaf-457e-be32-5515ceb4a940",
   "metadata": {
    "scrolled": true
   },
   "outputs": [
    {
     "name": "stdout",
     "output_type": "stream",
     "text": [
      "ashwin 20 8.5 true\n"
     ]
    }
   ],
   "source": [
    "name=\"ashwin\"\n",
    "age=20\n",
    "gpa=8.5\n",
    "is_student=\"true\"\n",
    "print(name,age,gpa,is_student)"
   ]
  },
  {
   "cell_type": "code",
   "execution_count": 14,
   "id": "1fd75c3c-e4ae-4a10-8b91-04547ab19aa3",
   "metadata": {},
   "outputs": [
    {
     "name": "stdout",
     "output_type": "stream",
     "text": [
      "<class 'int'> <class 'float'> <class 'str'> <class 'bool'>\n"
     ]
    }
   ],
   "source": [
    "x=10\n",
    "y=3.14\n",
    "z=\"python\"\n",
    "flag=False\n",
    "print(type(x),type(y),type(z),type(flag))"
   ]
  },
  {
   "cell_type": "code",
   "execution_count": 15,
   "id": "b82e08e6-2df6-443c-a4d5-264169ad607e",
   "metadata": {},
   "outputs": [
    {
     "name": "stdout",
     "output_type": "stream",
     "text": [
      "ashwin avinish_collage_commarse pythom\n"
     ]
    }
   ],
   "source": [
    "name=\"ashwin\"\n",
    "collage=\"avinish_collage_commarse\"\n",
    "favorite_programming_language=\"pythom\"\n",
    "print(name,collage,favorite_programming_language)"
   ]
  },
  {
   "cell_type": "code",
   "execution_count": 18,
   "id": "d9b6f3fc-ccbe-46a7-bb84-afba517773a8",
   "metadata": {},
   "outputs": [
    {
     "name": "stdout",
     "output_type": "stream",
     "text": [
      "20\n"
     ]
    }
   ],
   "source": [
    "year_of_birth=2005\n",
    "current=2025\n",
    "age=current-year_of_birth\n",
    "print(age)"
   ]
  },
  {
   "cell_type": "code",
   "execution_count": 19,
   "id": "21e576ec-a0b9-403b-a6e9-26990060fca3",
   "metadata": {},
   "outputs": [
    {
     "name": "stdout",
     "output_type": "stream",
     "text": [
      "saalar 2024 9.0\n"
     ]
    }
   ],
   "source": [
    "movie_name=\"saalar\"\n",
    "release_year=2024\n",
    "rating=9.0\n",
    "print(movie_name,release_year,rating)"
   ]
  },
  {
   "cell_type": "code",
   "execution_count": 21,
   "id": "ae53a128-7422-4b5a-8b84-fd9930ad1864",
   "metadata": {},
   "outputs": [
    {
     "name": "stdout",
     "output_type": "stream",
     "text": [
      "addition: 39\n",
      "division: 0.95\n",
      "floor_division: 0\n",
      "power: 37589973457545958193355601\n"
     ]
    }
   ],
   "source": [
    "a=19\n",
    "b=20\n",
    "print(\"addition:\",a+b)\n",
    "print(\"division:\",a/b)\n",
    "print(\"floor_division:\",a//b)\n",
    "print(\"power:\",a**b)"
   ]
  },
  {
   "cell_type": "code",
   "execution_count": 24,
   "id": "25782ff5-e3b0-4200-b3db-014778e0d54c",
   "metadata": {},
   "outputs": [
    {
     "name": "stdout",
     "output_type": "stream",
     "text": [
      "False\n",
      "True\n",
      "True\n"
     ]
    }
   ],
   "source": [
    "a=10\n",
    "b=30\n",
    "print(a>b)#false\n",
    "print(a==10)#true\n",
    "print((a<b)and(b==30))#true"
   ]
  },
  {
   "cell_type": "code",
   "execution_count": null,
   "id": "b02b4496-8376-4774-869a-d4230b84b568",
   "metadata": {},
   "outputs": [],
   "source": [
    "print day 2"
   ]
  },
  {
   "cell_type": "code",
   "execution_count": 1,
   "id": "11e00a82-a587-44ef-ba9a-f2db88c22585",
   "metadata": {},
   "outputs": [
    {
     "name": "stdout",
     "output_type": "stream",
     "text": [
      "['apple', 'banana', 'mango', 'orange']\n"
     ]
    }
   ],
   "source": [
    "fruits=[\"apple\",\"banana\",\"mango\"]\n",
    "fruits.append(\"orange\")\n",
    "print(fruits)"
   ]
  },
  {
   "cell_type": "code",
   "execution_count": 9,
   "id": "34f8cf2d-50ac-4b00-80f9-b27dc46c587c",
   "metadata": {},
   "outputs": [
    {
     "name": "stdout",
     "output_type": "stream",
     "text": [
      "['chandu', 'nani', 'bibblu', 'buntu']\n"
     ]
    }
   ],
   "source": [
    "names=[\"chandu\",\"nani\",\"bibblu\"]\n",
    "names.append(\"buntu\")\n",
    "print(names)"
   ]
  },
  {
   "cell_type": "code",
   "execution_count": 10,
   "id": "08d5d95a-1aac-4700-a7c8-9680a9695634",
   "metadata": {},
   "outputs": [
    {
     "name": "stdout",
     "output_type": "stream",
     "text": [
      "buntu\n"
     ]
    }
   ],
   "source": [
    "print(names[3])"
   ]
  },
  {
   "cell_type": "code",
   "execution_count": 14,
   "id": "4c942522-7264-4ab6-bb2f-f831983a4fec",
   "metadata": {},
   "outputs": [
    {
     "name": "stdout",
     "output_type": "stream",
     "text": [
      "red\n"
     ]
    }
   ],
   "source": [
    "colour=(\"red\",\"green\",\"blue\")\n",
    "print(colour[0])\n"
   ]
  },
  {
   "cell_type": "code",
   "execution_count": 16,
   "id": "a9e96612-2b72-4fd2-8982-2d7635848c68",
   "metadata": {},
   "outputs": [],
   "source": [
    "#"
   ]
  },
  {
   "cell_type": "code",
   "execution_count": 17,
   "id": "ac8ee686-e4ae-43c5-9f40-191d0d6c62af",
   "metadata": {},
   "outputs": [
    {
     "name": "stdout",
     "output_type": "stream",
     "text": [
      "{1, 2, 3, 4, 5}\n"
     ]
    }
   ],
   "source": [
    "number={1,2,3,3,4}\n",
    "number.add(5)\n",
    "print(number)"
   ]
  },
  {
   "cell_type": "code",
   "execution_count": 20,
   "id": "03c570a0-dc6c-4da2-86a0-f78f0a9749dc",
   "metadata": {},
   "outputs": [
    {
     "name": "stdout",
     "output_type": "stream",
     "text": [
      "{'name': 'ashwin', 'age': 20, 'course': 'python full stack'}\n"
     ]
    }
   ],
   "source": [
    "student={\n",
    "    \"name\":\"ashwin\",\n",
    "    \"age\":20,\n",
    "\"course\":\"python full stack\"}\n",
    "print(student)"
   ]
  },
  {
   "cell_type": "code",
   "execution_count": 24,
   "id": "af93812b-ce64-402b-ac30-6e6a72cc3bad",
   "metadata": {},
   "outputs": [
    {
     "name": "stdout",
     "output_type": "stream",
     "text": [
      "dict_keys(['name', 'age', 'course', 'collage'])\n",
      "dict_values(['ashwin', 20, 'python full stack', 'avinash degree clg'])\n"
     ]
    }
   ],
   "source": [
    "student[\"collage\"]=\"avinash degree clg\"\n",
    "print(student.keys())\n",
    "print(student.values())\n"
   ]
  },
  {
   "cell_type": "code",
   "execution_count": 31,
   "id": "08d82cdf-ea6e-4413-9125-12e3db16b535",
   "metadata": {},
   "outputs": [
    {
     "name": "stdout",
     "output_type": "stream",
     "text": [
      "grade:A\n"
     ]
    }
   ],
   "source": [
    "marks=99\n",
    "if marks>=90:\n",
    "    print(\"grade:A\")\n",
    "elif marks>=75:\n",
    "    print(\"grade:B\")\n",
    "elif marks>=50:\n",
    "    print(\"garde:C\")\n",
    "else:\n",
    "     print(\"grade:fail\")\n",
    "\n",
    "\n"
   ]
  },
  {
   "cell_type": "code",
   "execution_count": 33,
   "id": "f6a3dee5-255f-4d0c-80a0-8a5d1dc31ca7",
   "metadata": {},
   "outputs": [
    {
     "name": "stdout",
     "output_type": "stream",
     "text": [
      "number: 1\n",
      "number: 2\n",
      "number: 3\n",
      "number: 4\n",
      "number: 5\n",
      "number: 6\n",
      "number: 7\n",
      "number: 8\n",
      "number: 9\n"
     ]
    }
   ],
   "source": [
    "\n",
    "for i in range(1,10):\n",
    "     print(\"number:\",i)    "
   ]
  },
  {
   "cell_type": "code",
   "execution_count": 34,
   "id": "21e86276-b335-44b9-947f-2247740f778c",
   "metadata": {},
   "outputs": [
    {
     "name": "stdout",
     "output_type": "stream",
     "text": [
      "count: 1\n",
      "count: 2\n",
      "count: 3\n",
      "count: 4\n",
      "count: 5\n"
     ]
    }
   ],
   "source": [
    "count=1\n",
    "while count<=5:\n",
    "    print(\"count:\",count)\n",
    "    count+=1"
   ]
  },
  {
   "cell_type": "code",
   "execution_count": 35,
   "id": "16ad94bb-fc5b-4262-b271-71e3bb010a0d",
   "metadata": {},
   "outputs": [
    {
     "name": "stdout",
     "output_type": "stream",
     "text": [
      "1\n",
      "2\n",
      "3\n",
      "4\n"
     ]
    }
   ],
   "source": [
    "for i in range(1,10):\n",
    "    if i==5:break\n",
    "    print(i)"
   ]
  },
  {
   "cell_type": "code",
   "execution_count": null,
   "id": "d0fd16ee-a33b-417b-a3d7-823b65a0d884",
   "metadata": {},
   "outputs": [],
   "source": []
  }
 ],
 "metadata": {
  "kernelspec": {
   "display_name": "Python [conda env:base] *",
   "language": "python",
   "name": "conda-base-py"
  },
  "language_info": {
   "codemirror_mode": {
    "name": "ipython",
    "version": 3
   },
   "file_extension": ".py",
   "mimetype": "text/x-python",
   "name": "python",
   "nbconvert_exporter": "python",
   "pygments_lexer": "ipython3",
   "version": "3.13.5"
  }
 },
 "nbformat": 4,
 "nbformat_minor": 5
}
